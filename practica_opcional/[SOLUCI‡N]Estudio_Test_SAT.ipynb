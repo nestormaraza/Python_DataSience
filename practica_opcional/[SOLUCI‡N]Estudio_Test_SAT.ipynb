{
 "cells": [
  {
   "cell_type": "markdown",
   "metadata": {},
   "source": [
    "# Estudio del test SAT\n",
    "\n",
    "Vamos a analizar un estudio que recogió datos de los resultados del test SAT (un test estándar que se utiliza ampliamanete para admisiones en USA) por estados, combinados con otros datos.\n",
    "\n",
    "El test SAT se utiliza para medir el rendimiento de los estudiantes y, compararlo con el gasto en educación. La idea es la de tratar de entender si hay una relación entre el gasto y los resultados. En este caso, el estudio es de un sólo año y se compara entre los diferentes estados de Estados Unidos.\n",
    "\n",
    "Es importante resaltar que el tema del impaco del gasto en los resultados es un tema recurrente en política educativa, y genera debates sobre la verdadera incidencia del gasto. Hay quien sostiene que no es el gasto lo importante, sino cómo se gasta el dinero, mientras que otras posiciones tienden a intentar igualar el gasto en favor de la igualdad de oportunidades.\n",
    "\n",
    "Según la documentacion del data set (https://ww2.amstat.org/publications/jse/secure/v7n2/datasets.guber.cfm) tenemos las siguientes variables:\n",
    "* state: Nombre de los estados\n",
    "* expend: Gasto actual por alumno, en promedio de asistencia diaria en escuelas públicas, primarias y secundarias, 1994-95 (en miles de dólares)\n",
    "* ratio: Promedio del ratio alumno/maestro en escuelas de primaria y secundaria públicas, otoño 1994\n",
    "* salary: Salario anual promedio de maestros en escuelas públicas de primaria y secundaria enre 194-95, en miles de dólares.\n",
    "* frac: Porcentaje de estudiantes elegibles que realizaron el SAT, 1994-95\n",
    "* verbal: Promedio en calificación verbal de la puntuación SAT, 1994-95\n",
    "* math: Promedio en matemáticas de la puntuación SAT, 1994-95\n",
    "* sat: Promedio total de la puntuación SAT, 1994-95\n",
    "\n",
    "Hemos de tener en cuenta que los atributos expend, ratio y salary se relacionan directa o indirectamente con el gasto, y el gracias al dataset podemos relacionar estos datos con los resultados del SAT totales o sus componentes verbal y math.\n",
    "\n",
    "Se pide:\n",
    "* Analizar gráficamente si los scores del test tienen una escala similar y los componentes tienen relación.\n",
    "* Ordenar los datos y obtener los estados que más (y menos) gastan y los que mejores (y peores) resultados obtienen\n",
    "* Analizar de manera intuitiva con gráficos si hay relación entre las variables que indican resultados (las del test SAT) y las variables que indican gasto.\n",
    "* Utilziar correlaciones y un modelo lineal básico como exploración numérica de ese tipo de relación gasto/resultados. ¿Cuál es la conclusión aparente?."
   ]
  },
  {
   "cell_type": "markdown",
   "metadata": {},
   "source": [
    "En primer lugar hemos de obtener el data set."
   ]
  },
  {
   "cell_type": "code",
   "execution_count": 1,
   "metadata": {},
   "outputs": [
    {
     "data": {
      "text/html": [
       "<div>\n",
       "<style scoped>\n",
       "    .dataframe tbody tr th:only-of-type {\n",
       "        vertical-align: middle;\n",
       "    }\n",
       "\n",
       "    .dataframe tbody tr th {\n",
       "        vertical-align: top;\n",
       "    }\n",
       "\n",
       "    .dataframe thead th {\n",
       "        text-align: right;\n",
       "    }\n",
       "</style>\n",
       "<table border=\"1\" class=\"dataframe\">\n",
       "  <thead>\n",
       "    <tr style=\"text-align: right;\">\n",
       "      <th></th>\n",
       "      <th>state</th>\n",
       "      <th>expend</th>\n",
       "      <th>ratio</th>\n",
       "      <th>salary</th>\n",
       "      <th>frac</th>\n",
       "      <th>verbal</th>\n",
       "      <th>math</th>\n",
       "      <th>sat</th>\n",
       "    </tr>\n",
       "  </thead>\n",
       "  <tbody>\n",
       "    <tr>\n",
       "      <th>0</th>\n",
       "      <td>Alabama</td>\n",
       "      <td>4.405</td>\n",
       "      <td>17.2</td>\n",
       "      <td>31.144</td>\n",
       "      <td>8</td>\n",
       "      <td>491</td>\n",
       "      <td>538</td>\n",
       "      <td>1029</td>\n",
       "    </tr>\n",
       "    <tr>\n",
       "      <th>1</th>\n",
       "      <td>Alaska</td>\n",
       "      <td>8.963</td>\n",
       "      <td>17.6</td>\n",
       "      <td>47.951</td>\n",
       "      <td>47</td>\n",
       "      <td>445</td>\n",
       "      <td>489</td>\n",
       "      <td>934</td>\n",
       "    </tr>\n",
       "    <tr>\n",
       "      <th>2</th>\n",
       "      <td>Arizona</td>\n",
       "      <td>4.778</td>\n",
       "      <td>19.3</td>\n",
       "      <td>32.175</td>\n",
       "      <td>27</td>\n",
       "      <td>448</td>\n",
       "      <td>496</td>\n",
       "      <td>944</td>\n",
       "    </tr>\n",
       "    <tr>\n",
       "      <th>3</th>\n",
       "      <td>Arkansas</td>\n",
       "      <td>4.459</td>\n",
       "      <td>17.1</td>\n",
       "      <td>28.934</td>\n",
       "      <td>6</td>\n",
       "      <td>482</td>\n",
       "      <td>523</td>\n",
       "      <td>1005</td>\n",
       "    </tr>\n",
       "    <tr>\n",
       "      <th>4</th>\n",
       "      <td>California</td>\n",
       "      <td>4.992</td>\n",
       "      <td>24.0</td>\n",
       "      <td>41.078</td>\n",
       "      <td>45</td>\n",
       "      <td>417</td>\n",
       "      <td>485</td>\n",
       "      <td>902</td>\n",
       "    </tr>\n",
       "    <tr>\n",
       "      <th>5</th>\n",
       "      <td>Colorado</td>\n",
       "      <td>5.443</td>\n",
       "      <td>18.4</td>\n",
       "      <td>34.571</td>\n",
       "      <td>29</td>\n",
       "      <td>462</td>\n",
       "      <td>518</td>\n",
       "      <td>980</td>\n",
       "    </tr>\n",
       "    <tr>\n",
       "      <th>6</th>\n",
       "      <td>Connecticut</td>\n",
       "      <td>8.817</td>\n",
       "      <td>14.4</td>\n",
       "      <td>50.045</td>\n",
       "      <td>81</td>\n",
       "      <td>431</td>\n",
       "      <td>477</td>\n",
       "      <td>908</td>\n",
       "    </tr>\n",
       "    <tr>\n",
       "      <th>7</th>\n",
       "      <td>Delaware</td>\n",
       "      <td>7.030</td>\n",
       "      <td>16.6</td>\n",
       "      <td>39.076</td>\n",
       "      <td>68</td>\n",
       "      <td>429</td>\n",
       "      <td>468</td>\n",
       "      <td>897</td>\n",
       "    </tr>\n",
       "    <tr>\n",
       "      <th>8</th>\n",
       "      <td>Florida</td>\n",
       "      <td>5.718</td>\n",
       "      <td>19.1</td>\n",
       "      <td>32.588</td>\n",
       "      <td>48</td>\n",
       "      <td>420</td>\n",
       "      <td>469</td>\n",
       "      <td>889</td>\n",
       "    </tr>\n",
       "    <tr>\n",
       "      <th>9</th>\n",
       "      <td>Georgia</td>\n",
       "      <td>5.193</td>\n",
       "      <td>16.3</td>\n",
       "      <td>32.291</td>\n",
       "      <td>65</td>\n",
       "      <td>406</td>\n",
       "      <td>448</td>\n",
       "      <td>854</td>\n",
       "    </tr>\n",
       "  </tbody>\n",
       "</table>\n",
       "</div>"
      ],
      "text/plain": [
       "         state  expend  ratio  salary  frac  verbal  math   sat\n",
       "0      Alabama   4.405   17.2  31.144     8     491   538  1029\n",
       "1       Alaska   8.963   17.6  47.951    47     445   489   934\n",
       "2      Arizona   4.778   19.3  32.175    27     448   496   944\n",
       "3     Arkansas   4.459   17.1  28.934     6     482   523  1005\n",
       "4   California   4.992   24.0  41.078    45     417   485   902\n",
       "5     Colorado   5.443   18.4  34.571    29     462   518   980\n",
       "6  Connecticut   8.817   14.4  50.045    81     431   477   908\n",
       "7     Delaware   7.030   16.6  39.076    68     429   468   897\n",
       "8      Florida   5.718   19.1  32.588    48     420   469   889\n",
       "9      Georgia   5.193   16.3  32.291    65     406   448   854"
      ]
     },
     "execution_count": 1,
     "metadata": {},
     "output_type": "execute_result"
    }
   ],
   "source": [
    "#Lo descargamos directamente de la página de documentación en el apartado de \n",
    "# descarga del .txt\n",
    "import urllib.request\n",
    "\n",
    "link = \"https://ww2.amstat.org/publications/jse/datasets/sat.dat.txt\"\n",
    "urllib.request.urlretrieve(link, \"sat.dat\")\n",
    "\n",
    "#Ahora lo pasamos a data frame\n",
    "import pandas as pd\n",
    "df = pd.read_csv(\"sat.dat\", delim_whitespace=True, names=[\"state\",\n",
    "                                                         \"expend\",\n",
    "                                                         \"ratio\",\n",
    "                                                         \"salary\",\n",
    "                                                         \"frac\",\n",
    "                                                         \"verbal\",\n",
    "                                                         \"math\",\n",
    "                                                         \"sat\"])\n",
    "#Mostramos las primeras filas\n",
    "df.head(10)"
   ]
  },
  {
   "cell_type": "markdown",
   "metadata": {},
   "source": [
    "Una vez que ya tenemos el data frame, podemos obtener unas estadísticas básicas de las componentes del SAT verbal y math\n",
    "* Componente verbal"
   ]
  },
  {
   "cell_type": "code",
   "execution_count": 2,
   "metadata": {},
   "outputs": [
    {
     "name": "stdout",
     "output_type": "stream",
     "text": [
      "Media de la variable verbal 457.14\n",
      "Valor máximo de la varialbe verbal 516\n",
      "Valor mínimo de la varialbe verbal 401\n"
     ]
    }
   ],
   "source": [
    "print(\"Media de la variable verbal\", df[\"verbal\"].mean())\n",
    "print(\"Valor máximo de la varialbe verbal\", df[\"verbal\"].max())\n",
    "print(\"Valor mínimo de la varialbe verbal\",df[\"verbal\"].min())"
   ]
  },
  {
   "cell_type": "markdown",
   "metadata": {},
   "source": [
    "* Componente math"
   ]
  },
  {
   "cell_type": "code",
   "execution_count": 3,
   "metadata": {},
   "outputs": [
    {
     "name": "stdout",
     "output_type": "stream",
     "text": [
      "Media de la variable verbal 508.78\n",
      "Valor máximo de la varialbe verbal 592\n",
      "Valor mínimo de la varialbe verbal 443\n"
     ]
    }
   ],
   "source": [
    "print(\"Media de la variable verbal\", df[\"math\"].mean())\n",
    "print(\"Valor máximo de la varialbe verbal\", df[\"math\"].max())\n",
    "print(\"Valor mínimo de la varialbe verbal\",df[\"math\"].min())"
   ]
  },
  {
   "cell_type": "markdown",
   "metadata": {},
   "source": [
    "A grandes rasgos, ambas variables están en una misma escala, únicamente cabe destacar que los alumnos que se presentaron al SAT obtuvieron mejores resultados en matemáticas. Ahora obtendremos las mismas estadísticas de la puntuación total del SAT, atnes de realizar los análisis gráficamente.\n",
    "* Total de la puntuación SAT"
   ]
  },
  {
   "cell_type": "code",
   "execution_count": 4,
   "metadata": {},
   "outputs": [
    {
     "name": "stdout",
     "output_type": "stream",
     "text": [
      "Media de la variable verbal 965.92\n",
      "Valor máximo de la varialbe verbal 1107\n",
      "Valor mínimo de la varialbe verbal 844\n"
     ]
    }
   ],
   "source": [
    "print(\"Media de la variable verbal\", df[\"sat\"].mean())\n",
    "print(\"Valor máximo de la varialbe verbal\", df[\"sat\"].max())\n",
    "print(\"Valor mínimo de la varialbe verbal\",df[\"sat\"].min())"
   ]
  },
  {
   "cell_type": "markdown",
   "metadata": {},
   "source": [
    "Ahora sí que podemos ver que la escala cambia, pero esto simplemente se debe a que sat es la suma de los promedios verbal y math. A continuación, realizaremos el análisis gráficamente. Analizaremos cada variable mediante histogramas.\n",
    "\n",
    "## Análisis gráfico de los scores del test SAT"
   ]
  },
  {
   "cell_type": "code",
   "execution_count": 5,
   "metadata": {},
   "outputs": [],
   "source": [
    "%matplotlib inline\n",
    "import matplotlib.pyplot as plt"
   ]
  },
  {
   "cell_type": "code",
   "execution_count": 6,
   "metadata": {},
   "outputs": [
    {
     "data": {
      "image/png": "[encoded data removed]",
      "text/plain": [
       "<matplotlib.figure.Figure at 0x1c889cf0908>"
      ]
     },
     "metadata": {},
     "output_type": "display_data"
    }
   ],
   "source": [
    "plt.hist(df[\"verbal\"], color = \"green\")\n",
    "plt.title(\"Verbal SAT score\")\n",
    "plt.xlabel(\"Puntuación\")\n",
    "plt.ylabel(\"Frecuencia\")\n",
    "plt.grid(True)"
   ]
  },
  {
   "cell_type": "code",
   "execution_count": 7,
   "metadata": {},
   "outputs": [
    {
     "data": {
      "image/png": "[encoded data removed]",
      "text/plain": [
       "<matplotlib.figure.Figure at 0x1c889d63b00>"
      ]
     },
     "metadata": {},
     "output_type": "display_data"
    }
   ],
   "source": [
    "plt.hist(df[\"math\"], color = \"red\")\n",
    "plt.title(\"Math SAT score\")\n",
    "plt.xlabel(\"Puntuación\")\n",
    "plt.ylabel(\"Frecuencia\")\n",
    "plt.grid(True)"
   ]
  },
  {
   "cell_type": "code",
   "execution_count": 8,
   "metadata": {},
   "outputs": [
    {
     "data": {
      "image/png": "[encoded data removed]",
      "text/plain": [
       "<matplotlib.figure.Figure at 0x1c88a0fd5c0>"
      ]
     },
     "metadata": {},
     "output_type": "display_data"
    }
   ],
   "source": [
    "plt.hist(df[\"sat\"], color = \"blue\")\n",
    "plt.title(\"Math SAT score\")\n",
    "plt.xlabel(\"Puntuación\")\n",
    "plt.ylabel(\"Frecuencia\")\n",
    "plt.grid(True)"
   ]
  },
  {
   "cell_type": "markdown",
   "metadata": {},
   "source": [
    "También podríamos haber obtenido las gráficas de forma automática mediante una función."
   ]
  },
  {
   "cell_type": "code",
   "execution_count": 9,
   "metadata": {
    "collapsed": true
   },
   "outputs": [],
   "source": [
    "def get_hist():\n",
    "    \"\"\"\n",
    "    Función que obtiene gráficas sobre las puntuaciones del sat\n",
    "    :param: None\n",
    "    :return: void\n",
    "    \"\"\"\n",
    "    cols = [\"verbal\", \"math\", \"sat\"]\n",
    "    colors = [\"green\", \"red\", \"blue\"]\n",
    "\n",
    "    pos = 0\n",
    "    plt.figure(figsize=(35,5))\n",
    "    for i in range(0, len(cols)):\n",
    "        #Obtenemos subgráficas para obtener las 3 en un mismo cuadrante\n",
    "        plt.subplot(161+pos)\n",
    "        plt.hist(df[cols[i]], color = colors[i])\n",
    "        plt.title(str(cols[i]) + \" score\")\n",
    "        plt.xlabel(\"Puntuacion\")\n",
    "        plt.ylabel(\"Frecuencia\")\n",
    "        plt.grid(True)\n",
    "        pos += 1"
   ]
  },
  {
   "cell_type": "code",
   "execution_count": 10,
   "metadata": {},
   "outputs": [
    {
     "data": {
      "image/png": "[encoded data removed]",
      "text/plain": [
       "<matplotlib.figure.Figure at 0x1c88a09cfd0>"
      ]
     },
     "metadata": {},
     "output_type": "display_data"
    }
   ],
   "source": [
    "get_hist()"
   ]
  },
  {
   "cell_type": "markdown",
   "metadata": {},
   "source": [
    "Como ya se ha mencionado anteriormente, en vista de los resultaos obtenidos desde los histogramas, se puede apreciar el cambio de escala en la variable sat y que los resultados máximos están en las calificaciones de matemáticas. Cabe destacar además que en la variable de calificación verbal, hay un gran número de calificaciones por debajo del 5, es decir, alumnos que en promedio no superaron con éxito la prueba.\n",
    "\n",
    "Siguiendo con el análisis del test SAT, ahora obtendremos los ranking en función de los estados que más y menso gastan así como los mejores y peores resultados obtenidos.\n",
    "\n",
    "## Estados que más y menos gastan por alumno"
   ]
  },
  {
   "cell_type": "code",
   "execution_count": 11,
   "metadata": {},
   "outputs": [
    {
     "data": {
      "text/html": [
       "<div>\n",
       "<style scoped>\n",
       "    .dataframe tbody tr th:only-of-type {\n",
       "        vertical-align: middle;\n",
       "    }\n",
       "\n",
       "    .dataframe tbody tr th {\n",
       "        vertical-align: top;\n",
       "    }\n",
       "\n",
       "    .dataframe thead th {\n",
       "        text-align: right;\n",
       "    }\n",
       "</style>\n",
       "<table border=\"1\" class=\"dataframe\">\n",
       "  <thead>\n",
       "    <tr style=\"text-align: right;\">\n",
       "      <th></th>\n",
       "      <th>state</th>\n",
       "      <th>expend</th>\n",
       "    </tr>\n",
       "    <tr>\n",
       "      <th>RANK</th>\n",
       "      <th></th>\n",
       "      <th></th>\n",
       "    </tr>\n",
       "  </thead>\n",
       "  <tbody>\n",
       "    <tr>\n",
       "      <th>1</th>\n",
       "      <td>New Jersey</td>\n",
       "      <td>9.774</td>\n",
       "    </tr>\n",
       "    <tr>\n",
       "      <th>2</th>\n",
       "      <td>New York</td>\n",
       "      <td>9.623</td>\n",
       "    </tr>\n",
       "    <tr>\n",
       "      <th>3</th>\n",
       "      <td>Alaska</td>\n",
       "      <td>8.963</td>\n",
       "    </tr>\n",
       "    <tr>\n",
       "      <th>4</th>\n",
       "      <td>Connecticut</td>\n",
       "      <td>8.817</td>\n",
       "    </tr>\n",
       "    <tr>\n",
       "      <th>5</th>\n",
       "      <td>Rhode Island</td>\n",
       "      <td>7.469</td>\n",
       "    </tr>\n",
       "    <tr>\n",
       "      <th>46</th>\n",
       "      <td>Alabama</td>\n",
       "      <td>4.405</td>\n",
       "    </tr>\n",
       "    <tr>\n",
       "      <th>47</th>\n",
       "      <td>Tennessee</td>\n",
       "      <td>4.388</td>\n",
       "    </tr>\n",
       "    <tr>\n",
       "      <th>48</th>\n",
       "      <td>Idaho</td>\n",
       "      <td>4.210</td>\n",
       "    </tr>\n",
       "    <tr>\n",
       "      <th>49</th>\n",
       "      <td>Mississippi</td>\n",
       "      <td>4.080</td>\n",
       "    </tr>\n",
       "    <tr>\n",
       "      <th>50</th>\n",
       "      <td>Utah</td>\n",
       "      <td>3.656</td>\n",
       "    </tr>\n",
       "  </tbody>\n",
       "</table>\n",
       "</div>"
      ],
      "text/plain": [
       "             state  expend\n",
       "RANK                      \n",
       "1       New Jersey   9.774\n",
       "2         New York   9.623\n",
       "3           Alaska   8.963\n",
       "4      Connecticut   8.817\n",
       "5     Rhode Island   7.469\n",
       "46         Alabama   4.405\n",
       "47       Tennessee   4.388\n",
       "48           Idaho   4.210\n",
       "49     Mississippi   4.080\n",
       "50            Utah   3.656"
      ]
     },
     "execution_count": 11,
     "metadata": {},
     "output_type": "execute_result"
    }
   ],
   "source": [
    "df_sorted_sat = df[[\"state\",\"expend\"]].sort_values(\"expend\", ascending=False)\n",
    "df_sorted_sat[\"RANK\"] = range(1,df[\"sat\"].size+1)\n",
    "df_sorted_sat.set_index(\"RANK\", inplace=True)\n",
    "df_sorted_sat.iloc[:5,].append(df_sorted_sat.iloc[-5:,])"
   ]
  },
  {
   "cell_type": "markdown",
   "metadata": {},
   "source": [
    "## Estados que más y menos gastan por profesor"
   ]
  },
  {
   "cell_type": "code",
   "execution_count": 12,
   "metadata": {},
   "outputs": [
    {
     "data": {
      "text/html": [
       "<div>\n",
       "<style scoped>\n",
       "    .dataframe tbody tr th:only-of-type {\n",
       "        vertical-align: middle;\n",
       "    }\n",
       "\n",
       "    .dataframe tbody tr th {\n",
       "        vertical-align: top;\n",
       "    }\n",
       "\n",
       "    .dataframe thead th {\n",
       "        text-align: right;\n",
       "    }\n",
       "</style>\n",
       "<table border=\"1\" class=\"dataframe\">\n",
       "  <thead>\n",
       "    <tr style=\"text-align: right;\">\n",
       "      <th></th>\n",
       "      <th>state</th>\n",
       "      <th>salary</th>\n",
       "    </tr>\n",
       "    <tr>\n",
       "      <th>RANK</th>\n",
       "      <th></th>\n",
       "      <th></th>\n",
       "    </tr>\n",
       "  </thead>\n",
       "  <tbody>\n",
       "    <tr>\n",
       "      <th>1</th>\n",
       "      <td>Connecticut</td>\n",
       "      <td>50.045</td>\n",
       "    </tr>\n",
       "    <tr>\n",
       "      <th>2</th>\n",
       "      <td>Alaska</td>\n",
       "      <td>47.951</td>\n",
       "    </tr>\n",
       "    <tr>\n",
       "      <th>3</th>\n",
       "      <td>New York</td>\n",
       "      <td>47.612</td>\n",
       "    </tr>\n",
       "    <tr>\n",
       "      <th>4</th>\n",
       "      <td>New Jersey</td>\n",
       "      <td>46.087</td>\n",
       "    </tr>\n",
       "    <tr>\n",
       "      <th>5</th>\n",
       "      <td>Pennsylvania</td>\n",
       "      <td>44.510</td>\n",
       "    </tr>\n",
       "    <tr>\n",
       "      <th>46</th>\n",
       "      <td>Oklahoma</td>\n",
       "      <td>28.172</td>\n",
       "    </tr>\n",
       "    <tr>\n",
       "      <th>47</th>\n",
       "      <td>Mississippi</td>\n",
       "      <td>26.818</td>\n",
       "    </tr>\n",
       "    <tr>\n",
       "      <th>48</th>\n",
       "      <td>Louisiana</td>\n",
       "      <td>26.461</td>\n",
       "    </tr>\n",
       "    <tr>\n",
       "      <th>49</th>\n",
       "      <td>North Dakota</td>\n",
       "      <td>26.327</td>\n",
       "    </tr>\n",
       "    <tr>\n",
       "      <th>50</th>\n",
       "      <td>South Dakota</td>\n",
       "      <td>25.994</td>\n",
       "    </tr>\n",
       "  </tbody>\n",
       "</table>\n",
       "</div>"
      ],
      "text/plain": [
       "             state  salary\n",
       "RANK                      \n",
       "1      Connecticut  50.045\n",
       "2           Alaska  47.951\n",
       "3         New York  47.612\n",
       "4       New Jersey  46.087\n",
       "5     Pennsylvania  44.510\n",
       "46        Oklahoma  28.172\n",
       "47     Mississippi  26.818\n",
       "48       Louisiana  26.461\n",
       "49    North Dakota  26.327\n",
       "50    South Dakota  25.994"
      ]
     },
     "execution_count": 12,
     "metadata": {},
     "output_type": "execute_result"
    }
   ],
   "source": [
    "df_sorted_sat = df[[\"state\",\"salary\"]].sort_values(\"salary\", ascending=False)\n",
    "df_sorted_sat[\"RANK\"] = range(1,df[\"sat\"].size+1)\n",
    "df_sorted_sat.set_index(\"RANK\", inplace=True)\n",
    "df_sorted_sat.iloc[:5,].append(df_sorted_sat.iloc[-5:,])"
   ]
  },
  {
   "cell_type": "markdown",
   "metadata": {},
   "source": [
    "## Estados con mejor y peor puntuación SAT"
   ]
  },
  {
   "cell_type": "code",
   "execution_count": 13,
   "metadata": {},
   "outputs": [
    {
     "data": {
      "text/html": [
       "<div>\n",
       "<style scoped>\n",
       "    .dataframe tbody tr th:only-of-type {\n",
       "        vertical-align: middle;\n",
       "    }\n",
       "\n",
       "    .dataframe tbody tr th {\n",
       "        vertical-align: top;\n",
       "    }\n",
       "\n",
       "    .dataframe thead th {\n",
       "        text-align: right;\n",
       "    }\n",
       "</style>\n",
       "<table border=\"1\" class=\"dataframe\">\n",
       "  <thead>\n",
       "    <tr style=\"text-align: right;\">\n",
       "      <th></th>\n",
       "      <th>state</th>\n",
       "      <th>sat</th>\n",
       "    </tr>\n",
       "    <tr>\n",
       "      <th>RANK</th>\n",
       "      <th></th>\n",
       "      <th></th>\n",
       "    </tr>\n",
       "  </thead>\n",
       "  <tbody>\n",
       "    <tr>\n",
       "      <th>1</th>\n",
       "      <td>North Dakota</td>\n",
       "      <td>1107</td>\n",
       "    </tr>\n",
       "    <tr>\n",
       "      <th>2</th>\n",
       "      <td>Iowa</td>\n",
       "      <td>1099</td>\n",
       "    </tr>\n",
       "    <tr>\n",
       "      <th>3</th>\n",
       "      <td>Minnesota</td>\n",
       "      <td>1085</td>\n",
       "    </tr>\n",
       "    <tr>\n",
       "      <th>4</th>\n",
       "      <td>Utah</td>\n",
       "      <td>1076</td>\n",
       "    </tr>\n",
       "    <tr>\n",
       "      <th>5</th>\n",
       "      <td>Wisconsin</td>\n",
       "      <td>1073</td>\n",
       "    </tr>\n",
       "    <tr>\n",
       "      <th>46</th>\n",
       "      <td>Indiana</td>\n",
       "      <td>882</td>\n",
       "    </tr>\n",
       "    <tr>\n",
       "      <th>47</th>\n",
       "      <td>Pennsylvania</td>\n",
       "      <td>880</td>\n",
       "    </tr>\n",
       "    <tr>\n",
       "      <th>48</th>\n",
       "      <td>North Carolina</td>\n",
       "      <td>865</td>\n",
       "    </tr>\n",
       "    <tr>\n",
       "      <th>49</th>\n",
       "      <td>Georgia</td>\n",
       "      <td>854</td>\n",
       "    </tr>\n",
       "    <tr>\n",
       "      <th>50</th>\n",
       "      <td>South Carolina</td>\n",
       "      <td>844</td>\n",
       "    </tr>\n",
       "  </tbody>\n",
       "</table>\n",
       "</div>"
      ],
      "text/plain": [
       "               state   sat\n",
       "RANK                      \n",
       "1       North Dakota  1107\n",
       "2               Iowa  1099\n",
       "3          Minnesota  1085\n",
       "4               Utah  1076\n",
       "5          Wisconsin  1073\n",
       "46           Indiana   882\n",
       "47      Pennsylvania   880\n",
       "48    North Carolina   865\n",
       "49           Georgia   854\n",
       "50    South Carolina   844"
      ]
     },
     "execution_count": 13,
     "metadata": {},
     "output_type": "execute_result"
    }
   ],
   "source": [
    "df_sorted_sat = df[[\"state\",\"sat\"]].sort_values(\"sat\", ascending=False)\n",
    "df_sorted_sat[\"RANK\"] = range(1,df[\"sat\"].size+1)\n",
    "df_sorted_sat.set_index(\"RANK\", inplace=True)\n",
    "df_sorted_sat.iloc[:5,].append(df_sorted_sat.iloc[-5:,])"
   ]
  },
  {
   "cell_type": "markdown",
   "metadata": {},
   "source": [
    "Una vez que conocemos los datos, al menos apriori, no somos capaces de deducir si existe una relación entre el gasto y las puntuaciones, ya que por lo general, aparecen diferentes países. Por consiguiente, vamos a realizar el análisis del gasto/puntuación de forma gráfica\n",
    "\n",
    "## Gráficas relación gasto/resultados\n",
    "\n",
    "Importamos sklearn para utilizar el modelo lineal y numpy para trabajar con matrices (ajuste del modelo)."
   ]
  },
  {
   "cell_type": "code",
   "execution_count": 14,
   "metadata": {},
   "outputs": [],
   "source": [
    "from sklearn import linear_model\n",
    "import numpy as np"
   ]
  },
  {
   "cell_type": "code",
   "execution_count": 15,
   "metadata": {
    "collapsed": true
   },
   "outputs": [],
   "source": [
    "def linear_model_graphs():\n",
    "    \"\"\"\n",
    "    Función que obtiene las correlaciones entre variables económicas y sociales\n",
    "    del test sat, además muestra por pantalla las gráficas de dichas correalaciones\n",
    "    realizándo para ello gráficas cruzadas entre variables económicas y sociales\n",
    "    :param: None\n",
    "    :return: void\n",
    "    \"\"\"   \n",
    "    plt.figure(figsize=(20,10))\n",
    "    #Variables de puntuación (sociales)\n",
    "    scores = [\"verbal\", \"math\", \"sat\"]\n",
    "    #Variables económicas\n",
    "    costs = [\"expend\", \"salary\"]\n",
    "    #Cada puntuación con un color distinto\n",
    "    colors = [\"blue\", \"red\" ,\"green\"]\n",
    "\n",
    "    pos = 0\n",
    "    #Iteramos para obtener una gráfica por cada puntuación una de gasto 2 para cada \n",
    "    # puntuación 6 gráficas\n",
    "    for i in range(0, len(scores)):\n",
    "        #Para cada puntuación una gráfica económica\n",
    "        for j in range(0, len(costs)):\n",
    "            plt.subplot(321+pos)\n",
    "            #Obtenemos un data frame con los valores de las variables indicadas en las listas y ordenadas\n",
    "            a = df[scores+costs].sort_values(scores[i], ascending=True)\n",
    "            print(\"Correlación (\" + scores[i] + \",\" + costs[j] + \"): \" + str(df[costs[j]].corr(df[scores[i]])))\n",
    "            plt.scatter(a[scores[i]], a[costs[j]], color=colors[i])\n",
    "            plt.xlabel(scores[i] + \" score\")\n",
    "            plt.ylabel(\"Miles de dólares\")\n",
    "            # Creamos un modelo de regresión \"vacío\"\n",
    "            clf = linear_model.LinearRegression()\n",
    "            # Entrenamos el modelo tomando todos los datos\n",
    "            x1 = a[scores[i]]\n",
    "            X = x1[:, np.newaxis] # Necesario porque fit() espera una matriz.\n",
    "            y = a[costs[j]]\n",
    "            clf.fit(X, y) #Obtenemos de esta forma el R^2 de cada par de variables\n",
    "\n",
    "            # El modelo\n",
    "            plt.plot(X, clf.predict(X), color = colors[i], linewidth=3)\n",
    "            print(\"R-squared (\" + scores[i] + \",\" + costs[j] + \"): \"+ str(clf.score(X, y)))\n",
    "            print(\"-------------\")\n",
    "\n",
    "\n",
    "            plt.legend([\"Recta de regresion\",costs[j]])\n",
    "\n",
    "            pos += 1"
   ]
  },
  {
   "cell_type": "code",
   "execution_count": 16,
   "metadata": {},
   "outputs": [
    {
     "name": "stdout",
     "output_type": "stream",
     "text": [
      "Correlación (verbal,expend): -0.410049872133\n",
      "R-squared (verbal,expend): 0.168140897636\n",
      "-------------\n",
      "Correlación (verbal,salary): -0.476963635342\n",
      "R-squared (verbal,salary): 0.227494309438\n",
      "-------------\n",
      "Correlación (math,expend): -0.349414091107\n",
      "R-squared (math,expend): 0.122090207064\n",
      "-------------\n",
      "Correlación (math,salary): -0.401312816829\n",
      "R-squared (math,salary): 0.161051976951\n",
      "-------------\n",
      "Correlación (sat,expend): -0.380537003305\n",
      "R-squared (sat,expend): 0.144808410884\n",
      "-------------\n",
      "Correlación (sat,salary): -0.439883381442\n",
      "R-squared (sat,salary): 0.193497389269\n",
      "-------------\n"
     ]
    },
    {
     "data": {
      "image/png": "[encoded data removed]",
      "text/plain": [
       "<matplotlib.figure.Figure at 0x1c88a8b2390>"
      ]
     },
     "metadata": {},
     "output_type": "display_data"
    }
   ],
   "source": [
    "linear_model_graphs()"
   ]
  },
  {
   "cell_type": "markdown",
   "metadata": {},
   "source": [
    "Tras realizar el análisis de los estados en función de gasto/resultados y obtener las gráficas, correlaciones R-Cuadrado de las variables de puntuación con el gasto, podemos afirmar que no tienen ningún tipo de relación ya que todas las correlaciones son negativas y los R-Cuadrado muy lejanos de 1."
   ]
  }
 ],
 "metadata": {
  "kernelspec": {
   "display_name": "Python 3",
   "language": "python",
   "name": "python3"
  },
  "language_info": {
   "codemirror_mode": {
    "name": "ipython",
    "version": 3
   },
   "file_extension": ".py",
   "mimetype": "text/x-python",
   "name": "python",
   "nbconvert_exporter": "python",
   "pygments_lexer": "ipython3",
   "version": "3.6.3"
  }
 },
 "nbformat": 4,
 "nbformat_minor": 2
}
